{
 "cells": [
  {
   "cell_type": "code",
   "execution_count": null,
   "id": "cca65a42",
   "metadata": {},
   "outputs": [],
   "source": [
    "# Identificando valores vazios\n",
    "import pandas as pd\n",
    "import numpy as np\n",
    "\n",
    "df = pd.read_csv(\"clientes.csv\")\n",
    "\n",
    "df[\"TotalGasto\"] = pd.to_numeric(df[\"TotalGasto\"], errors=\"coerce\")\n",
    "\n",
    "# info\n",
    "display(df.info())\n",
    "\n",
    "# Exibe onde e quantos valores vazios tem na base de dados\n",
    "display(df.isna().sum())"
   ]
  },
  {
   "cell_type": "code",
   "execution_count": 15,
   "id": "f0afc3a3",
   "metadata": {},
   "outputs": [],
   "source": [
    "# Valores vazios não identificados como vazio\n",
    "\n",
    "# Identificar na hora de importar\n",
    "# valores_vazios = [\"?\", \"-\"]\n",
    "# df = pd.read_csv(\"clientes.csv\", na_values=valores_vazios)\n",
    "\n",
    "# Identificar com replace\n",
    "df = df.replace({\"?\": np.nan, \"-\": np.nan})"
   ]
  },
  {
   "cell_type": "code",
   "execution_count": null,
   "id": "f3b1cb4d",
   "metadata": {},
   "outputs": [],
   "source": [
    "# Removendo valores vazios\n",
    "\n",
    "# axis=0 -> Exclui linhas, axis=1 -> Exclui colunas\n",
    "df = df.dropna(how=\"any\", axis=0)\n",
    "display(df)"
   ]
  },
  {
   "cell_type": "code",
   "execution_count": null,
   "id": "db477db6",
   "metadata": {},
   "outputs": [],
   "source": [
    "# Tratando valores vazios\n",
    "\n",
    "# Preenchendo com valor fixo\n",
    "media = df[\"MesesComoCliente\"].mean()\n",
    "df[\"MesesComoCliente\"] = df[\"MesesComoCliente\"].fillna(media)\n",
    "display(df)"
   ]
  },
  {
   "cell_type": "code",
   "execution_count": null,
   "id": "e03e4c1a",
   "metadata": {},
   "outputs": [],
   "source": [
    "# Preenchendo com anterior ou seguinte\n",
    "\n",
    "# ffill -> Preenche com o valor anterior, bfill -> Preenche com o valor seguinte\n",
    "df[\"MesesComoCliente\"] = df[\"MesesComoCliente\"].fillna(method=\"ffill\")\n",
    "display(df)"
   ]
  },
  {
   "cell_type": "code",
   "execution_count": null,
   "id": "81106165",
   "metadata": {},
   "outputs": [],
   "source": [
    "# Interpolando\n",
    "df[\"MesesComoCliente\"] = df[\"MesesComoCliente\"].interpolate()\n",
    "display(df)"
   ]
  }
 ],
 "metadata": {
  "kernelspec": {
   "display_name": "3.10.9",
   "language": "python",
   "name": "python3"
  },
  "language_info": {
   "codemirror_mode": {
    "name": "ipython",
    "version": 3
   },
   "file_extension": ".py",
   "mimetype": "text/x-python",
   "name": "python",
   "nbconvert_exporter": "python",
   "pygments_lexer": "ipython3",
   "version": "3.10.9"
  }
 },
 "nbformat": 4,
 "nbformat_minor": 5
}
