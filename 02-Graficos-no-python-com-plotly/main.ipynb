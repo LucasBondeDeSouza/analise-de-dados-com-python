{
 "cells": [
  {
   "cell_type": "code",
   "execution_count": 1,
   "id": "63e64853",
   "metadata": {},
   "outputs": [],
   "source": [
    "# Importando o Plotly\n",
    "import plotly.express as px"
   ]
  },
  {
   "cell_type": "code",
   "execution_count": null,
   "id": "226506f8",
   "metadata": {},
   "outputs": [],
   "source": [
    "# Criando um gráfico\n",
    "dados_x = ['2018', '2019', '2020', '2021']\n",
    "dados_y = [10, 20, 5, 35]\n",
    "\n",
    "fig = px.line(x=dados_x, y=dados_y, title=\"Vendas X Ano\", width=600, height=300, line_shape=\"spline\")\n",
    "fig.show()"
   ]
  },
  {
   "cell_type": "code",
   "execution_count": null,
   "id": "cb608db7",
   "metadata": {},
   "outputs": [],
   "source": [
    "# Alterando o eixo y\n",
    "dados_x = ['2018', '2019', '2020', '2021']\n",
    "dados_y = [10, 20, 5, 35]\n",
    "\n",
    "fig = px.line(x=dados_x, y=dados_y, title=\"Vendas X Ano\", width=600, height=300, line_shape=\"spline\")\n",
    "fig.update_yaxes(title=\"Vendas\", title_font_color=\"red\")\n",
    "fig.show()"
   ]
  },
  {
   "cell_type": "code",
   "execution_count": null,
   "id": "499f885e",
   "metadata": {},
   "outputs": [],
   "source": [
    "# Criando um gráfico de pizza\n",
    "dados_x = ['2018', '2019', '2020', '2021']\n",
    "dados_y = [10, 20, 5, 35]\n",
    "\n",
    "fig = px.pie(names=dados_x, values=dados_y, width=400, height=400)\n",
    "fig.update_traces(title_text=\"Pizza\", title_position=\"top right\")\n",
    "fig.show()"
   ]
  },
  {
   "cell_type": "code",
   "execution_count": null,
   "id": "74aa6b7b",
   "metadata": {},
   "outputs": [],
   "source": [
    "# Criando gráfico de Barra\n",
    "dados_x = ['2018', '2019', '2020', '2021']\n",
    "dados_y = [10, 20, 5, 35]\n",
    "\n",
    "fig = px.bar(x=dados_x, y=dados_y, height=300, width=500)\n",
    "fig.show()"
   ]
  },
  {
   "cell_type": "code",
   "execution_count": null,
   "id": "5aebcd77",
   "metadata": {},
   "outputs": [],
   "source": [
    "# Criando gráfico de Disperção\n",
    "dados_x = [1, 4, 6, 7, 8, 4, 3, 2, 1, 5]\n",
    "dados_y = [10, 20, 5, 35, 2, 3, 40, 25, 16, 27]\n",
    "\n",
    "fig = px.scatter(x=dados_x, y=dados_y, height=300, width=500)\n",
    "fig.show()"
   ]
  },
  {
   "cell_type": "code",
   "execution_count": 20,
   "id": "b432d229",
   "metadata": {},
   "outputs": [
    {
     "data": {
      "text/html": [
       "<div>\n",
       "<style scoped>\n",
       "    .dataframe tbody tr th:only-of-type {\n",
       "        vertical-align: middle;\n",
       "    }\n",
       "\n",
       "    .dataframe tbody tr th {\n",
       "        vertical-align: top;\n",
       "    }\n",
       "\n",
       "    .dataframe thead th {\n",
       "        text-align: right;\n",
       "    }\n",
       "</style>\n",
       "<table border=\"1\" class=\"dataframe\">\n",
       "  <thead>\n",
       "    <tr style=\"text-align: right;\">\n",
       "      <th></th>\n",
       "      <th>Tarefa</th>\n",
       "      <th>Início</th>\n",
       "      <th>Fim</th>\n",
       "    </tr>\n",
       "  </thead>\n",
       "  <tbody>\n",
       "    <tr>\n",
       "      <th>0</th>\n",
       "      <td>Assinar contrato</td>\n",
       "      <td>2021-07-10</td>\n",
       "      <td>2021-07-15</td>\n",
       "    </tr>\n",
       "    <tr>\n",
       "      <th>1</th>\n",
       "      <td>Mobilizar equipe em campo</td>\n",
       "      <td>2021-07-22</td>\n",
       "      <td>2021-07-27</td>\n",
       "    </tr>\n",
       "    <tr>\n",
       "      <th>2</th>\n",
       "      <td>Treinar equipe segundo procedimentos de segurança</td>\n",
       "      <td>2021-07-27</td>\n",
       "      <td>2021-07-30</td>\n",
       "    </tr>\n",
       "    <tr>\n",
       "      <th>3</th>\n",
       "      <td>Iniciar desmontagem  da UG</td>\n",
       "      <td>2021-07-30</td>\n",
       "      <td>2021-08-29</td>\n",
       "    </tr>\n",
       "    <tr>\n",
       "      <th>4</th>\n",
       "      <td>Transportar  turbina</td>\n",
       "      <td>2021-09-03</td>\n",
       "      <td>2021-09-08</td>\n",
       "    </tr>\n",
       "    <tr>\n",
       "      <th>5</th>\n",
       "      <td>Transportar gerador</td>\n",
       "      <td>2021-08-29</td>\n",
       "      <td>2021-09-03</td>\n",
       "    </tr>\n",
       "    <tr>\n",
       "      <th>6</th>\n",
       "      <td>Realizar reparos na turbina</td>\n",
       "      <td>2021-09-08</td>\n",
       "      <td>2021-11-07</td>\n",
       "    </tr>\n",
       "    <tr>\n",
       "      <th>7</th>\n",
       "      <td>Realizar  reparos no gerador</td>\n",
       "      <td>2021-09-03</td>\n",
       "      <td>2021-10-18</td>\n",
       "    </tr>\n",
       "    <tr>\n",
       "      <th>8</th>\n",
       "      <td>Transportar componentes para usina</td>\n",
       "      <td>2021-11-07</td>\n",
       "      <td>2021-11-12</td>\n",
       "    </tr>\n",
       "    <tr>\n",
       "      <th>9</th>\n",
       "      <td>Realizar Montagem</td>\n",
       "      <td>2021-11-12</td>\n",
       "      <td>2022-01-11</td>\n",
       "    </tr>\n",
       "  </tbody>\n",
       "</table>\n",
       "</div>"
      ],
      "text/plain": [
       "                                              Tarefa     Início        Fim\n",
       "0                                   Assinar contrato 2021-07-10 2021-07-15\n",
       "1                          Mobilizar equipe em campo 2021-07-22 2021-07-27\n",
       "2  Treinar equipe segundo procedimentos de segurança 2021-07-27 2021-07-30\n",
       "3                         Iniciar desmontagem  da UG 2021-07-30 2021-08-29\n",
       "4                               Transportar  turbina 2021-09-03 2021-09-08\n",
       "5                                Transportar gerador 2021-08-29 2021-09-03\n",
       "6                        Realizar reparos na turbina 2021-09-08 2021-11-07\n",
       "7                       Realizar  reparos no gerador 2021-09-03 2021-10-18\n",
       "8                 Transportar componentes para usina 2021-11-07 2021-11-12\n",
       "9                                  Realizar Montagem 2021-11-12 2022-01-11"
      ]
     },
     "metadata": {},
     "output_type": "display_data"
    }
   ],
   "source": [
    "# Gráfico de Gantt\n",
    "\n",
    "# Importando dados\n",
    "import pandas as pd\n",
    "\n",
    "tarefas = pd.read_excel(\"Tarefas.xlsx\")\n",
    "display(tarefas)"
   ]
  },
  {
   "cell_type": "code",
   "execution_count": null,
   "id": "27e077c5",
   "metadata": {},
   "outputs": [],
   "source": [
    "fig = px.timeline(tarefas, x_start=\"Início\", x_end=\"Fim\", y=\"Tarefa\")\n",
    "fig.update_yaxes(autorange=\"reversed\")\n",
    "fig.show()"
   ]
  }
 ],
 "metadata": {
  "kernelspec": {
   "display_name": "3.10.9",
   "language": "python",
   "name": "python3"
  },
  "language_info": {
   "codemirror_mode": {
    "name": "ipython",
    "version": 3
   },
   "file_extension": ".py",
   "mimetype": "text/x-python",
   "name": "python",
   "nbconvert_exporter": "python",
   "pygments_lexer": "ipython3",
   "version": "3.10.9"
  }
 },
 "nbformat": 4,
 "nbformat_minor": 5
}
